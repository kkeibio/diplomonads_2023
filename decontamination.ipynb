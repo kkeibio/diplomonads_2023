{
 "cells": [
  {
   "cell_type": "code",
   "execution_count": null,
   "metadata": {},
   "outputs": [],
   "source": [
    "from pathlib import Path\n",
    "import pickle\n",
    "import sqlite3\n",
    "\n",
    "import pandas as pd\n",
    "from tqdm import tqdm\n",
    "\n",
    "FORMAT = 'qseqid sseqid saccver evalue staxids length qlen slen pident stitle qseq sseq qcovs frames'\n",
    "FULLNAMELINEAGE_SQLITE3 = Path('fullnamelineage.sqlite3')\n",
    "\n",
    "# fullnamelineage.dmp (from NCBI: https://ftp.ncbi.nlm.nih.gov/pub/taxonomy/)\n",
    "# tax_id  |       tax_name  |   lineage |\n",
    "# 1       |       root    |               |\n",
    "# 131567  |       cellular organisms      |               |\n",
    "# 2157    |       Archaea |       cellular organisms;     |\n",
    "# 1935183 |       Asgard group    |       cellular organisms; Archaea;    |\n",
    "# 2798909 |       Candidatus Baldrarchaeota       |       cellular organisms; Archaea; Asgard group;      |\n",
    "\n",
    "# fullnamelineage.sqlite3\n",
    "# converted from the above .dmp file, where the lineage column contains a pickled set object (generated from the 'lineage' text separeted by \";\")"
   ]
  },
  {
   "cell_type": "code",
   "execution_count": null,
   "metadata": {},
   "outputs": [],
   "source": [
    "def taxid2fullnamelineage(taxid: str) -> set:\n",
    "    con = sqlite3.connect(FULLNAMELINEAGE_SQLITE3.as_posix())\n",
    "\n",
    "    cursor_ = con.cursor()\n",
    "    cmd_sql = 'SELECT name,pickle ' \\\n",
    "        'FROM taxid2fullnamelineage WHERE taxid = ' + \\\n",
    "        taxid\n",
    "    cursor_.execute(cmd_sql)\n",
    "    row = cursor_.fetchone()\n",
    "    \n",
    "    if row is not None:\n",
    "        # name = row[0]\n",
    "        fullnamelineage_set = pickle.loads(row[1])\n",
    "    else:\n",
    "        fullnamelineage_set = set()\n",
    "\n",
    "    con.close()\n",
    "\n",
    "    return fullnamelineage_set"
   ]
  },
  {
   "cell_type": "code",
   "execution_count": null,
   "metadata": {},
   "outputs": [],
   "source": [
    "def get_d_name(fullname_lineage: set) -> str:\n",
    "    if 'Eukaryota' in fullname_lineage:\n",
    "        return_str = 'Eukaryota'\n",
    "    elif 'Bacteria' in fullname_lineage:\n",
    "        return_str = 'Bacteria'\n",
    "    elif 'Archaea' in fullname_lineage:\n",
    "        return_str = 'Archaea'\n",
    "    elif 'cellular organisms' in fullname_lineage:\n",
    "        return_str = 'cellular organisms'\n",
    "    elif 'environmental samples' in fullname_lineage:\n",
    "        return_str = 'environmental samples'\n",
    "    elif 'artificial sequences' in fullname_lineage:\n",
    "        return_str = 'artificial sequences'\n",
    "    elif 'vectors' in fullname_lineage:\n",
    "        return_str = 'vectors'\n",
    "    elif 'Viruses' in fullname_lineage:\n",
    "        return_str = 'Viruses'\n",
    "    else:\n",
    "        return_str = 'Other'\n",
    "        \n",
    "    return return_str"
   ]
  },
  {
   "cell_type": "code",
   "execution_count": null,
   "metadata": {},
   "outputs": [],
   "source": [
    "col_names = FORMAT.split(' ')\n",
    "col_names.remove('qseq')\n",
    "col_names.remove('sseq')\n",
    "\n",
    "nr_df = pd.read_csv('./nr.blast_results.tsv', delimiter='\\t', header=None, names=FORMAT.split(' '), usecols=col_names)\n",
    "# nr_df.head()"
   ]
  },
  {
   "cell_type": "code",
   "execution_count": null,
   "metadata": {},
   "outputs": [],
   "source": [
    "nr_groupby = nr_df.groupby('qseqid')"
   ]
  },
  {
   "cell_type": "code",
   "execution_count": null,
   "metadata": {},
   "outputs": [],
   "source": [
    "nr_filtered_df = nr_df.query(\" evalue <= 1e-10 & pident >= 95.0 & qcovs >= 50\").copy()\n",
    "nr_filtered_df.reset_index(drop=True, inplace=True)\n",
    "\n",
    "filtered_groupby = nr_filtered_df.groupby('qseqid')"
   ]
  },
  {
   "cell_type": "code",
   "execution_count": null,
   "metadata": {},
   "outputs": [],
   "source": [
    "def get_taxgroup_superset(taxids) -> set:\n",
    "    if isinstance(taxids, str) is False:\n",
    "        return set([])\n",
    "    _taxid_list = taxids.split(';')\n",
    "    taxgroup_sets = [taxid2fullnamelineage(taxid=x) for x in _taxid_list]\n",
    "    taxgroup_superset = set()\n",
    "    for set_ in taxgroup_sets:\n",
    "        taxgroup_superset = taxgroup_superset | set_\n",
    "    return taxgroup_superset"
   ]
  },
  {
   "cell_type": "code",
   "execution_count": null,
   "metadata": {},
   "outputs": [],
   "source": [
    "return_list = []\n",
    "metamonada_existance = {}\n",
    "\n",
    "for id_ in tqdm(filtered_groupby.groups.keys()):\n",
    "    # is Metamonada in each hit list?\n",
    "    nr_get_df = nr_groupby.get_group(id_)\n",
    "    taxnames_series = nr_get_df['staxids'].apply(get_taxgroup_superset)\n",
    "    taxnames_in_hits_set = set()\n",
    "    \n",
    "    for x in taxnames_series:\n",
    "        taxnames_in_hits_set = taxnames_in_hits_set | x\n",
    "\n",
    "    if 'Metamonada' in taxnames_in_hits_set:\n",
    "        metamonada_existance[id_] = True\n",
    "        continue\n",
    "\n",
    "    # for filtered hits\n",
    "    df_ = filtered_groupby.get_group(id_)\n",
    "    taxnames_series_filtered = df_['staxids'].apply(get_taxgroup_superset)\n",
    "\n",
    "    taxnames_in_filtered_hits_set = set()\n",
    "    for x in taxnames_series_filtered:\n",
    "        taxnames_in_filtered_hits_set = taxnames_in_filtered_hits_set | x\n",
    "\n",
    "    if len(taxnames_in_filtered_hits_set) == 0:\n",
    "        print('{} was not found, try searching in merged.dmp'.format(set(df_['staxids'])))\n",
    "    d_name = get_d_name(taxnames_in_filtered_hits_set)\n",
    "\n",
    "    # if 'cellular organisms' == d_name:\n",
    "    #     if len(taxnames_series_filtered) == 1:  # if only '2' was included\n",
    "    #         print('{}: Only 2'.format(id_))\n",
    "    # elif 'environmental samples' == d_name:\n",
    "    #     if len(taxnames_series_filtered) == 1:  # if only '417996' was included\n",
    "    #         print('{}: Only 417996'.format(id_))\n",
    "    # elif 'Other' == d_name:\n",
    "    #     print('{}: Something wrong'.format(id_))\n",
    "\n",
    "    if d_name is not None:\n",
    "        return_list.append({'seqid': id_, 'supergroupname': d_name})        "
   ]
  },
  {
   "cell_type": "code",
   "execution_count": null,
   "metadata": {},
   "outputs": [],
   "source": [
    "with open('contaminants_seqids.txt', 'w') as w:\n",
    "    for d_ in return_list:\n",
    "        w.write(d_['seqid'] + '\\n')"
   ]
  },
  {
   "cell_type": "code",
   "execution_count": null,
   "metadata": {},
   "outputs": [],
   "source": []
  }
 ],
 "metadata": {
  "kernelspec": {
   "display_name": "venv",
   "language": "python",
   "name": "python3"
  },
  "language_info": {
   "codemirror_mode": {
    "name": "ipython",
    "version": 3
   },
   "file_extension": ".py",
   "mimetype": "text/x-python",
   "name": "python",
   "nbconvert_exporter": "python",
   "pygments_lexer": "ipython3",
   "version": "3.10.12"
  },
  "orig_nbformat": 4
 },
 "nbformat": 4,
 "nbformat_minor": 2
}
